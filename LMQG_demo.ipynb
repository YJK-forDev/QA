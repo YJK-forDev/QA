{
  "cells": [
    {
      "cell_type": "markdown",
      "metadata": {
        "id": "teHzLo4owK3j"
      },
      "source": [
        "# Notebook Example of LMQG\n",
        "This is a colab notebook of [`lmqg`](https://github.com/asahi417/lm-question-generation#lmqg-language-model-for-question-generation-)."
      ]
    },
    {
      "cell_type": "code",
      "execution_count": null,
      "metadata": {
        "colab": {
          "base_uri": "https://localhost:8080/"
        },
        "id": "L6m9o9YV0j7O",
        "outputId": "4e513dc6-0bad-4cae-a864-3f5a2086fc0f"
      },
      "outputs": [],
      "source": [
        "!pip install lmqg"
      ]
    },
    {
      "cell_type": "code",
      "execution_count": null,
      "metadata": {
        "colab": {
          "base_uri": "https://localhost:8080/",
          "height": 1000
        },
        "id": "4sbqZgiSH4s7",
        "outputId": "6b6e98da-0b8b-4209-a25c-6e9eaac10aa5"
      },
      "outputs": [],
      "source": [
        "!pip install pytextrank\n",
        "!python -m spacy download en_core_web_md \n",
        "# import en_core_web_sm\n",
        "# nlp = en_core_web_sm.load()"
      ]
    },
    {
      "cell_type": "code",
      "execution_count": null,
      "metadata": {},
      "outputs": [],
      "source": [
        "\n",
        "!pip install --upgrade pip"
      ]
    },
    {
      "cell_type": "code",
      "execution_count": null,
      "metadata": {},
      "outputs": [],
      "source": [
        "!pip3 install lmqg"
      ]
    },
    {
      "cell_type": "code",
      "execution_count": null,
      "metadata": {
        "id": "nnEbJ7xey-3z"
      },
      "outputs": [],
      "source": [
        "from lmqg import TransformersQG\n",
        "# initialize model\n",
        "model = TransformersQG(language='en', model='lmqg/bart-base-squad')"
      ]
    },
    {
      "cell_type": "markdown",
      "metadata": {
        "id": "erRMsEx-zJbX"
      },
      "source": [
        "## Question and Answer Generation"
      ]
    },
    {
      "cell_type": "code",
      "execution_count": null,
      "metadata": {
        "colab": {
          "base_uri": "https://localhost:8080/"
        },
        "id": "1U3jLNxjvvYn",
        "outputId": "679165bc-42b2-4e2d-9057-0a15048ded77"
      },
      "outputs": [],
      "source": [
        "# paragraph to generate pairs of question and answer\n",
        "context = \"William Turner was an English painter who specialised in watercolour landscapes. He is often known as William Turner of Oxford or just Turner of Oxford to distinguish him from his contemporary, J. M. W. Turner. Many of Turner's paintings depicted the countryside around Oxford. One of his best known pictures is a view of the city of Oxford from Hinksey Hill.\"\n",
        "# model prediction\n",
        "question_answer = model.generate_qa(context)\n",
        "# the output is a list of tuple (question, answer)\n",
        "print(question_answer)"
      ]
    },
    {
      "cell_type": "markdown",
      "metadata": {
        "id": "R1GyPcb-zj7i"
      },
      "source": [
        "## Question Generation"
      ]
    },
    {
      "cell_type": "code",
      "execution_count": null,
      "metadata": {
        "colab": {
          "base_uri": "https://localhost:8080/"
        },
        "id": "fCEnJI8fwDsz",
        "outputId": "96478b05-b404-4792-9f96-9fa6331f2909"
      },
      "outputs": [],
      "source": [
        "# a list of paragraph\n",
        "context = [\n",
        "    \"William Turner was an English painter who specialised in watercolour landscapes\",\n",
        "    \"William Turner was an English painter who specialised in watercolour landscapes\"\n",
        "]\n",
        "# a list of answer (same size as the context)\n",
        "answer = [\n",
        "    \"William Turner\",\n",
        "    \"English\"\n",
        "]\n",
        "# model prediction\n",
        "question = model.generate_q(list_context=context, list_answer=answer)\n",
        "print(question)"
      ]
    },
    {
      "cell_type": "markdown",
      "metadata": {
        "id": "A9JIAUngKMVM"
      },
      "source": [
        "# For Pokemon"
      ]
    },
    {
      "cell_type": "code",
      "execution_count": null,
      "metadata": {
        "colab": {
          "base_uri": "https://localhost:8080/"
        },
        "id": "nDmFxhaxMdFd",
        "outputId": "094e340c-192f-46a4-f62a-7deda0b7e127"
      },
      "outputs": [],
      "source": [
        "context = \"A special Eevee, one which is incapable of evolving, is owned by Chloe Cerise, the childhood friend of Goh, who is Ash Ketchum's companion in the 23rd, 24th, and 25th seasons of the anime. The main reason why it cannot evolve is unknown, but the head of the Eevee Evolution Lab in the episode  theorises that it cannot evolve because of its hesitancy of making the important decision\"\n",
        "question_answer = model.generate_qa(context)\n",
        "print(question_answer)"
      ]
    },
    {
      "cell_type": "code",
      "execution_count": null,
      "metadata": {
        "colab": {
          "base_uri": "https://localhost:8080/"
        },
        "id": "GeQH8FXxzG35",
        "outputId": "4b6d1ecf-fe05-4f44-9123-75bd3b264f76"
      },
      "outputs": [],
      "source": [
        "context = [\"A special Eevee, one which is incapable of evolving, is owned by Chloe Cerise, the childhood friend of Goh, who is Ash Ketchum's companion in the 23rd, 24th, and 25th seasons of the anime. The main reason why it cannot evolve is unknown, but the head of the Eevee Evolution Lab in the episode  theorises that it cannot evolve because of its hesitancy of making the important decision\"]\n",
        "\n",
        "answer = [\"Chloe Cerise\"]\n",
        "\n",
        "question = model.generate_q(list_context=context, list_answer=answer)\n",
        "print(question)"
      ]
    },
    {
      "cell_type": "code",
      "execution_count": null,
      "metadata": {
        "id": "E6YE9jk2LWb7"
      },
      "outputs": [],
      "source": []
    }
  ],
  "metadata": {
    "colab": {
      "collapsed_sections": [],
      "provenance": []
    },
    "kernelspec": {
      "display_name": "Python 3.8.13 ('key')",
      "language": "python",
      "name": "python3"
    },
    "language_info": {
      "codemirror_mode": {
        "name": "ipython",
        "version": 3
      },
      "file_extension": ".py",
      "mimetype": "text/x-python",
      "name": "python",
      "nbconvert_exporter": "python",
      "pygments_lexer": "ipython3",
      "version": "3.8.13"
    },
    "vscode": {
      "interpreter": {
        "hash": "226013303c9fbecc7c6dc25bf0f2a794226659bea9a9a5cbce0953160285b096"
      }
    }
  },
  "nbformat": 4,
  "nbformat_minor": 0
}
