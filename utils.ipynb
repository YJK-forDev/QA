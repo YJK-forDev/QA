{
 "cells": [
  {
   "cell_type": "code",
   "execution_count": null,
   "metadata": {},
   "outputs": [],
   "source": [
    "# full context file\n",
    "import os\n",
    "\n",
    "folder_path = './data/raw/'\n",
    "full_text = ''\n",
    "\n",
    "for dir in os.listdir(folder_path):\n",
    "    files = os.listdir(os.path.join(folder_path,dir))\n",
    "\n",
    "    for name in files:\n",
    "        with open(os.path.join(folder_path, dir, name)) as fp:\n",
    "            data = fp.read()\n",
    "\n",
    "        full_text += data\n",
    "        full_text += \"\\n\"\n",
    "        \n",
    "with open ('full_context.txt', 'w') as fp:\n",
    "    fp.write(full_text)"
   ]
  },
  {
   "cell_type": "code",
   "execution_count": null,
   "metadata": {},
   "outputs": [],
   "source": [
    "# each context file\n",
    "import os\n",
    "\n",
    "folder_path = './data/raw/'\n",
    "\n",
    "for dir in os.listdir(folder_path):\n",
    "    files = os.listdir(os.path.join(folder_path,dir))\n",
    "    sub_text = ''\n",
    "    for name in files:\n",
    "        with open(os.path.join(folder_path, dir, name)) as fp:\n",
    "            data = fp.read()\n",
    "\n",
    "        sub_text += data\n",
    "        sub_text += \"\\n\"\n",
    "        \n",
    "    with open (dir+'.txt', 'w') as fp:\n",
    "        fp.write(sub_text)"
   ]
  },
  {
   "cell_type": "code",
   "execution_count": null,
   "metadata": {},
   "outputs": [],
   "source": [
    "# csv to txt\n",
    "# extract only questions\n",
    "import csv\n",
    "\n",
    "with open('./data/qa_dataset.csv') as inf:\n",
    "    reader = csv. reader(inf, delimiter=\",\")\n",
    "    questions = list(zip(*reader))[2]\n",
    "\n",
    "with open ('questions.txt', 'w') as fp:\n",
    "    for q in questions:\n",
    "        fp.write(q)\n",
    "        fp.write(\"\\n\")"
   ]
  },
  {
   "cell_type": "code",
   "execution_count": 1,
   "metadata": {},
   "outputs": [
    {
     "name": "stderr",
     "output_type": "stream",
     "text": [
      "/opt/homebrew/Caskroom/miniforge/base/envs/idl/lib/python3.8/site-packages/tqdm/auto.py:22: TqdmWarning: IProgress not found. Please update jupyter and ipywidgets. See https://ipywidgets.readthedocs.io/en/stable/user_install.html\n",
      "  from .autonotebook import tqdm as notebook_tqdm\n"
     ]
    }
   ],
   "source": [
    "# save models \n",
    "import sys\n",
    "from transformers import BertForQuestionAnswering, AutoTokenizer, pipeline\n",
    "\n",
    "\n",
    "input_file = sys.argv[1]\n",
    "question_file = sys.argv[2]\n",
    "\n",
    "model = BertForQuestionAnswering.from_pretrained('deepset/bert-base-cased-squad2')\n",
    "model.save_pretrained(\"./deepset/\")\n",
    "model = BertForQuestionAnswering.from_pretrained(\"./deepset/\")\n",
    "tokenizer = AutoTokenizer.from_pretrained('deepset/bert-base-cased-squad2')\n",
    "tokenizer.save_pretrained(\"./deepset_tok/\")\n",
    "tokenizer = AutoTokenizer.from_pretrained(\"./deepset_tok/\")\n",
    "\n"
   ]
  },
  {
   "cell_type": "code",
   "execution_count": null,
   "metadata": {},
   "outputs": [],
   "source": []
  }
 ],
 "metadata": {
  "kernelspec": {
   "display_name": "Python 3.8.13 ('idl')",
   "language": "python",
   "name": "python3"
  },
  "language_info": {
   "codemirror_mode": {
    "name": "ipython",
    "version": 3
   },
   "file_extension": ".py",
   "mimetype": "text/x-python",
   "name": "python",
   "nbconvert_exporter": "python",
   "pygments_lexer": "ipython3",
   "version": "3.8.13"
  },
  "orig_nbformat": 4,
  "vscode": {
   "interpreter": {
    "hash": "5d4d2ea42f9d0d09e61e0b8d0be682d345c5f9771f344c188748daadb0295e2c"
   }
  }
 },
 "nbformat": 4,
 "nbformat_minor": 2
}
